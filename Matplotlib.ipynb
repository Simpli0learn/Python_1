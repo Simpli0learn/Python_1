{
 "cells": [
  {
   "cell_type": "code",
   "execution_count": null,
   "id": "2bde8114",
   "metadata": {},
   "outputs": [],
   "source": [
    "#installing matplotlib library\n",
    "!pip install matplotlib"
   ]
  },
  {
   "cell_type": "code",
   "execution_count": 1,
   "id": "d61870e9",
   "metadata": {},
   "outputs": [],
   "source": [
    "#importing the library as well as numpy\n",
    "import matplotlib.pyplot as plt\n",
    "import numpy as np\n",
    "import seaborn as sns"
   ]
  },
  {
   "cell_type": "markdown",
   "id": "40e09016",
   "metadata": {},
   "source": [
    "## Line Plots"
   ]
  },
  {
   "cell_type": "code",
   "execution_count": 3,
   "id": "d24d9650",
   "metadata": {},
   "outputs": [],
   "source": [
    "#To see how line plot works,we first create a variable x which is an array\n",
    "x = np.arange(10)  #this line of code will create numbers from 0 to 9\n",
    "y1 = x**2\n",
    "y2 = 2*x +3"
   ]
  },
  {
   "cell_type": "code",
   "execution_count": 4,
   "id": "729d85dd",
   "metadata": {},
   "outputs": [
    {
     "data": {
      "text/plain": [
       "array([0, 1, 2, 3, 4, 5, 6, 7, 8, 9])"
      ]
     },
     "execution_count": 4,
     "metadata": {},
     "output_type": "execute_result"
    }
   ],
   "source": [
    "x"
   ]
  },
  {
   "cell_type": "code",
   "execution_count": 5,
   "id": "10bd3f0f",
   "metadata": {},
   "outputs": [
    {
     "data": {
      "text/plain": [
       "array([ 0,  1,  4,  9, 16, 25, 36, 49, 64, 81])"
      ]
     },
     "execution_count": 5,
     "metadata": {},
     "output_type": "execute_result"
    }
   ],
   "source": [
    "y1"
   ]
  },
  {
   "cell_type": "code",
   "execution_count": 6,
   "id": "cd4c7634",
   "metadata": {},
   "outputs": [
    {
     "data": {
      "text/plain": [
       "array([ 3,  5,  7,  9, 11, 13, 15, 17, 19, 21])"
      ]
     },
     "execution_count": 6,
     "metadata": {},
     "output_type": "execute_result"
    }
   ],
   "source": [
    "y2"
   ]
  },
  {
   "cell_type": "code",
   "execution_count": 7,
   "id": "a6e16ba0",
   "metadata": {},
   "outputs": [],
   "source": [
    "#to plot a line graph between x and y,we first find the meaning and attributes\n",
    "#plt.plot?"
   ]
  },
  {
   "cell_type": "code",
   "execution_count": 8,
   "id": "cd08b4a5",
   "metadata": {},
   "outputs": [
    {
     "data": {
      "text/plain": [
       "[<matplotlib.lines.Line2D at 0x1ac2a6a1dc0>]"
      ]
     },
     "execution_count": 8,
     "metadata": {},
     "output_type": "execute_result"
    },
    {
     "data": {
      "image/png": "[encoded data removed]",
      "text/plain": [
       "<Figure size 432x288 with 1 Axes>"
      ]
     },
     "metadata": {
      "needs_background": "light"
     },
     "output_type": "display_data"
    }
   ],
   "source": [
    "plt.plot(x,y1)\n",
    "plt.plot(x,y2)\n",
    "#the above two lines of code creates an itermediary output.\n",
    "#if we write this program in a python script,the graph will not be displayed"
   ]
  },
  {
   "cell_type": "code",
   "execution_count": 9,
   "id": "24cb3b9c",
   "metadata": {},
   "outputs": [
    {
     "data": {
      "image/png": "[encoded data removed]",
      "text/plain": [
       "<Figure size 432x288 with 1 Axes>"
      ]
     },
     "metadata": {
      "needs_background": "light"
     },
     "output_type": "display_data"
    }
   ],
   "source": [
    "#To create a parmanent graph\n",
    "plt.plot(x,y1)\n",
    "plt.plot(x,y2)\n",
    "plt.show()  #This is important it just means displaying the graph\n"
   ]
  },
  {
   "cell_type": "code",
   "execution_count": null,
   "id": "a4d6dd8f",
   "metadata": {},
   "outputs": [],
   "source": []
  },
  {
   "cell_type": "markdown",
   "id": "097a3746",
   "metadata": {},
   "source": [
    "## Using different themes available,can change the look of the plot"
   ]
  },
  {
   "cell_type": "code",
   "execution_count": null,
   "id": "3771e205",
   "metadata": {},
   "outputs": [],
   "source": [
    "#To see the themes available,which will change the style of the plot\n",
    "themes = plt.style.available\n",
    "print(themes)"
   ]
  },
  {
   "cell_type": "code",
   "execution_count": null,
   "id": "409f8dca",
   "metadata": {},
   "outputs": [],
   "source": [
    "#We choose any one,say seaborn\n",
    "plt.style.use('seaborn')\n",
    "#plt.style.use('classic')\n"
   ]
  },
  {
   "cell_type": "code",
   "execution_count": null,
   "id": "20777797",
   "metadata": {},
   "outputs": [],
   "source": [
    "plt.plot(x,y1)\n",
    "plt.plot(x,y2)\n",
    "plt.show()"
   ]
  },
  {
   "cell_type": "code",
   "execution_count": null,
   "id": "de9b6ecf",
   "metadata": {},
   "outputs": [],
   "source": [
    "#To customise the graph,we can use different parameters like color\n",
    "plt.plot(x,y1, color='red')\n",
    "plt.plot(x,y2,color = 'green')\n",
    "plt.show()"
   ]
  },
  {
   "cell_type": "code",
   "execution_count": null,
   "id": "be26c238",
   "metadata": {},
   "outputs": [],
   "source": [
    "# to customise the graphs,we can include a parameter called marker\n",
    "plt.plot(x,y1, color='red',marker = 'o')\n",
    "plt.plot(x,y2,color = 'green',marker = '*',markersize=12)\n",
    "plt.show()\n"
   ]
  },
  {
   "cell_type": "code",
   "execution_count": null,
   "id": "8f909a10",
   "metadata": {},
   "outputs": [],
   "source": [
    "#Now going for further customizations,we label the x axis,y axis,and we label x axis as 'quantity' and y axis as 'price'\n",
    "#If you get an error in labeling,please restart the kernel open a fresh terminal and rerun the code\n",
    "plt.plot(x,y1, color='red',marker = 'o')\n",
    "plt.plot(x,y2,color = 'green',marker = '*',markersize=12,linestyle = 'dashed')\n",
    "plt.xlabel(\"quantity\")\n",
    "plt.ylabel(\"Price\")\n",
    "plt.show()\n"
   ]
  },
  {
   "cell_type": "code",
   "execution_count": null,
   "id": "7ca347d4",
   "metadata": {},
   "outputs": [],
   "source": [
    "import matplotlib.pyplot as plt\n",
    "plt.plot(x,y1, color='red',marker = 'o')\n",
    "plt.plot(x,y2,color = 'green',marker = '*',markersize=12,linestyle = 'dashed')\n",
    "\n",
    "plt.xlabel(\"unit\")\n",
    "plt.ylabel(\"Price\")\n",
    "plt.title(\"per unit price\")\n",
    "plt.show()"
   ]
  },
  {
   "cell_type": "code",
   "execution_count": null,
   "id": "61d93078",
   "metadata": {
    "scrolled": true
   },
   "outputs": [],
   "source": [
    "#Now if we want to label each line graph,then we include the label parameter and also include the legend parameter\n",
    "\n",
    "plt.plot(x,y1, color='red',marker = 'o',label= 'Essential')   #marker = 'o' produces a small circle\n",
    "plt.plot(x,y2,color = 'green',marker = '*',markersize=12,linestyle = 'dashed',label = 'Luxury')\n",
    "\n",
    "plt.xlabel(\"unit\")\n",
    "plt.ylabel(\"Price\")\n",
    "plt.title(\"per unit price\")\n",
    "plt.legend() #this legend function helps in giving the labels to each line graph\n",
    "plt.show()\n"
   ]
  },
  {
   "cell_type": "code",
   "execution_count": null,
   "id": "0da3b2d4",
   "metadata": {},
   "outputs": [],
   "source": [
    "#Passing the parameter x is not alawys needed,say we define y=prices as\n",
    "prices = np.arange(12)\n",
    "prices\n"
   ]
  },
  {
   "cell_type": "code",
   "execution_count": null,
   "id": "221b0d71",
   "metadata": {},
   "outputs": [],
   "source": [
    "plt.plot(prices)"
   ]
  },
  {
   "cell_type": "markdown",
   "id": "f8152b86",
   "metadata": {},
   "source": [
    "## Scatter Plots"
   ]
  },
  {
   "cell_type": "code",
   "execution_count": 10,
   "id": "93fb69a7",
   "metadata": {},
   "outputs": [
    {
     "data": {
      "image/png": "[encoded data removed]",
      "text/plain": [
       "<Figure size 432x288 with 1 Axes>"
      ]
     },
     "metadata": {
      "needs_background": "light"
     },
     "output_type": "display_data"
    }
   ],
   "source": [
    "#We use the same variables we had defined before x,y1,y2\n",
    "plt.scatter(x,y1)\n",
    "plt.scatter(x,y2)\n",
    "plt.show()"
   ]
  },
  {
   "cell_type": "code",
   "execution_count": null,
   "id": "70d713c3",
   "metadata": {},
   "outputs": [],
   "source": [
    "#Now lets add few parameters we have used before,and also INCREASE THE SIZE OF THE GRAPH WITH FIGURE parameter\n",
    "plt.figure(figsize=(6,4))    #The figsize attribute allows us to specify the width and height of a figure in unit inches\n",
    "plt.scatter(x,y1,color='red',marker = 'o',label= 'Essential')\n",
    "plt.scatter(x,y2,color = 'green',marker = '*',label = 'Luxury')\n",
    "plt.xlabel(\"unit\")\n",
    "plt.ylabel(\"Price\")\n",
    "plt.title(\"per unit price\")\n",
    "plt.show()\n",
    "\n"
   ]
  },
  {
   "cell_type": "code",
   "execution_count": null,
   "id": "657e7682",
   "metadata": {},
   "outputs": [],
   "source": [
    "#To generate data,we use the function from numpy which generates 100 random number which follow a normal distribution and \n",
    "#two columns of data.These two columns have data which has 0 mean and unit SD\n",
    "data =np.random.randn(100,2)\n"
   ]
  },
  {
   "cell_type": "code",
   "execution_count": null,
   "id": "d727b791",
   "metadata": {},
   "outputs": [],
   "source": [
    "data"
   ]
  },
  {
   "cell_type": "code",
   "execution_count": null,
   "id": "41425058",
   "metadata": {},
   "outputs": [],
   "source": [
    "#Creating a scatterplot with these two columns of data\n",
    "plt.scatter(x=data[:, 0],y = data[:,1])  #This implies we take all rows of data of the 1st col for \"x\",and the 2nd col for \"y\"\n",
    "plt.show()"
   ]
  },
  {
   "cell_type": "markdown",
   "id": "9f87cf0a",
   "metadata": {},
   "source": [
    "## DEMO: A nutri world wide firm wants to know how many people visits its website in aparticular time .this analysis will help it control the website traffic"
   ]
  },
  {
   "cell_type": "code",
   "execution_count": null,
   "id": "626a35f0",
   "metadata": {},
   "outputs": [],
   "source": [
    "#We have a2D plot here as we have two variables,'users' and 'time'.\n",
    "# #%matplotlib inline command helps the output to appear and get stored in Jupiter notebook\n",
    "\n",
    "#Importing the libraries\n",
    "\n",
    "import matplotlib.pyplot as plt\n",
    "from matplotlib import style\n",
    "%matplotlib inline               "
   ]
  },
  {
   "cell_type": "code",
   "execution_count": null,
   "id": "ecadcec3",
   "metadata": {},
   "outputs": [],
   "source": [
    "#website traffic data\n",
    "#no of users in the website\n",
    "web_users = [123,645,950,1290,1630,1450,1034,1295,465,205,80]\n",
    "#time distribution                                               #this implies 123 cust visit the website at 7am,645\n",
    "                                                                 #cust visit the website at 8am...and so on\n",
    "time_hrs = [7,8,9,10,11,12,13,14,15,16,17]"
   ]
  },
  {
   "cell_type": "code",
   "execution_count": null,
   "id": "263fc03b",
   "metadata": {},
   "outputs": [],
   "source": [
    "#select the style of the plot\n",
    "style.use('ggplot')   #this helps in creating the grid style of the plot\n",
    "#plot the website traffic,(x axis= hrs and y axis = number of users)\n",
    "plt.plot(time_hrs,web_users)\n",
    "#setting the title of plot\n",
    "plt.title('Web Site Traffic')\n",
    "#label x axis\n",
    "plt.xlabel('Hrs')\n",
    "#Label y axis\n",
    "plt.ylabel('Number Of Users')\n",
    "plt.show()"
   ]
  },
  {
   "cell_type": "code",
   "execution_count": null,
   "id": "bef2a51e",
   "metadata": {},
   "outputs": [],
   "source": [
    "#Alpha ia an attribute which controls the transparency of a line.lower the alpha value,more transparent the line is\n",
    "\n",
    "#select the style of the plot\n",
    "style.use('ggplot')   #this helps in creating the grid style of the plot\n",
    "#plot the website traffic,(x axis= hrs and y axis = number of users)\n",
    "#WE SET THE ALPHA VALUE FOR TRANSPARENCY TOO\n",
    "plt.plot(time_hrs,web_users,alpha=0.4)\n",
    "#setting the title of plot\n",
    "plt.title('Web Site Traffic')\n",
    "#Annotate\n",
    "plt.annotate('Max',ha='center',va='bottom',xytext= (8,1500),xy=(11,1630),arrowprops = {'facecolor': 'green'})\n",
    "#Max=denotes annotation text,ha=horizontal alignment,va=vertical alignment,xytext=gives text position,xy=gives arrow position\n",
    "#arrowprops=properties of arrow\n",
    "#label x axis\n",
    "plt.xlabel('Hrs')\n",
    "#Label y axis\n",
    "plt.ylabel('Number Of Users')\n",
    "plt.show()\n"
   ]
  },
  {
   "cell_type": "code",
   "execution_count": null,
   "id": "dde3ac0e",
   "metadata": {},
   "outputs": [],
   "source": [
    "#Creating Multiple plots\n",
    "\n",
    "#website traffic data\n",
    "#no of users in the website\n",
    "web_monday = [123,645,950,1290,1630,1450,1034,1295,465,205,80]\n",
    "web_tuesday = [95,680,889,1145,1670,1323,1119,1265,510,310,110]\n",
    "web_wednesday = [105,630,700,1006,1520,1124,1239,1380,580,610,230]\n",
    "#time distribution                                               #this implies 123 cust visit the website at 7am,645\n",
    "                                                                 #cust visit the website at 8am...and so on\n",
    "time_hrs = [7,8,9,10,11,12,13,14,15,16,17]\n",
    "style.use('ggplot')\n",
    "plt.plot(time_hrs,web_monday,'r',label = 'monday',linewidth=1)\n",
    "plt.plot(time_hrs,web_tuesday,'g',label = 'tuesday',linewidth=1.5)\n",
    "plt.plot(time_hrs,web_wednesday,'b',label = 'wednesday',linewidth=2)\n",
    "plt.axis([6.5,17.5,50,2000])\n",
    "#setting the title of plot\n",
    "plt.title('Web Site Traffic')\n",
    "#label x axis\n",
    "plt.xlabel('Hrs')\n",
    "#Label y axis\n",
    "plt.ylabel('Number Of Users')\n",
    "plt.legend()\n",
    "plt.show()\n",
    "\n"
   ]
  },
  {
   "cell_type": "markdown",
   "id": "c4cfa716",
   "metadata": {},
   "source": [
    "## Subplot is used to display multiple plots in the same window. With subplot you can arrange plots in a regular grid. All you need to do is specify the number of rows, columns, and plot. The syntax for subplot is shown on the screen.subplot(m,n,p)It divides the current window into an m-by-n grid and creates an axes for a subplot in the position specified by p.\n",
    " \n"
   ]
  },
  {
   "cell_type": "markdown",
   "id": "65295677",
   "metadata": {},
   "source": [
    "## The subplot() function takes three arguments that describes the layout of the figure.The layout is organized in rows and columns, which are represented by the first and second argument.The third argument represents the index of the current plot.plt.subplot(1, 2, 1)\n",
    "\n",
    "\n"
   ]
  },
  {
   "cell_type": "code",
   "execution_count": 12,
   "id": "1a577cae",
   "metadata": {},
   "outputs": [
    {
     "data": {
      "image/png": "[encoded data removed]",
      "text/plain": [
       "<Figure size 432x288 with 2 Axes>"
      ]
     },
     "metadata": {
      "needs_background": "light"
     },
     "output_type": "display_data"
    }
   ],
   "source": [
    "#Subplots\n",
    "import matplotlib.pyplot as plt\n",
    "import numpy as np\n",
    "\n",
    "#plot 1:\n",
    "x = np.array([0, 1, 2, 3])\n",
    "y = np.array([3, 8, 1, 10])\n",
    "\n",
    "plt.subplot(1, 2, 1) ##the figure has 1 row, 2 columns, and this plot is the first plot.\n",
    "plt.plot(x,y)\n",
    "\n",
    "#plot 2:\n",
    "x1 = np.array([0, 1, 2, 3])\n",
    "y1 = np.array([10, 20, 30, 40])\n",
    "\n",
    "plt.subplot(1, 2, 2) #the figure has 1 row, 2 columns, and this plot is the second plot.\n",
    "plt.plot(x1,y1)\n",
    "\n",
    "plt.show()"
   ]
  },
  {
   "cell_type": "code",
   "execution_count": 18,
   "id": "80dd3568",
   "metadata": {},
   "outputs": [
    {
     "data": {
      "image/png": "[encoded data removed]",
      "text/plain": [
       "<Figure size 432x288 with 2 Axes>"
      ]
     },
     "metadata": {
      "needs_background": "light"
     },
     "output_type": "display_data"
    }
   ],
   "source": [
    "x = np.array([0,1,3,4])\n",
    "y = np.array([5,8,9,11])\n",
    "plt.subplot(2,1,1)\n",
    "plt.plot(x,y)\n",
    "\n",
    "x = np.array([0,1,3,4])\n",
    "y = np.array([50,40,30,10])\n",
    "plt.subplot(2,1,2) #now i am creating the 2nd subplot with 2 rows and 1 column\n",
    "plt.plot(x,y)\n",
    "\n",
    "plt.show()\n"
   ]
  },
  {
   "cell_type": "markdown",
   "id": "bace621b",
   "metadata": {},
   "source": [
    "## Histograms"
   ]
  },
  {
   "cell_type": "code",
   "execution_count": 21,
   "id": "93be670f",
   "metadata": {},
   "outputs": [
    {
     "data": {
      "image/png": "[encoded data removed]",
      "text/plain": [
       "<Figure size 432x288 with 1 Axes>"
      ]
     },
     "metadata": {
      "needs_background": "light"
     },
     "output_type": "display_data"
    }
   ],
   "source": [
    "#In Matplotlib, we use the hist() function to create histograms.\n",
    "#The hist() function will use an array of numbers to create a histogram, the array is sent into the function as an argument.\n",
    "\n",
    "import matplotlib.pyplot as plt\n",
    "import numpy as np\n",
    "\n",
    "#we use NumPy to randomly generate an array with 250 values,with mean 170,and standard deviation 10\n",
    "\n",
    "x = np.random.normal(170, 10, 250)  \n",
    "#print(x)\n",
    "\n",
    "plt.hist(x)\n",
    "plt.show()"
   ]
  },
  {
   "cell_type": "markdown",
   "id": "2d015433",
   "metadata": {},
   "source": [
    "## Heatmaps"
   ]
  },
  {
   "cell_type": "code",
   "execution_count": 22,
   "id": "c101c5a5",
   "metadata": {},
   "outputs": [],
   "source": [
    "#generating heatmaps using seaborn library\n",
    "import matplotlib.pyplot as plt\n",
    "import seaborn as sns\n",
    "%matplotlib inline"
   ]
  },
  {
   "cell_type": "code",
   "execution_count": 23,
   "id": "13101db4",
   "metadata": {},
   "outputs": [],
   "source": [
    "#we use the 'flights' dataset which is inbuilt in the seaborn library\n",
    "flights_data =sns.load_dataset('flights')"
   ]
  },
  {
   "cell_type": "code",
   "execution_count": 24,
   "id": "7cc48c3c",
   "metadata": {},
   "outputs": [
    {
     "data": {
      "text/html": [
       "<div>\n",
       "<style scoped>\n",
       "    .dataframe tbody tr th:only-of-type {\n",
       "        vertical-align: middle;\n",
       "    }\n",
       "\n",
       "    .dataframe tbody tr th {\n",
       "        vertical-align: top;\n",
       "    }\n",
       "\n",
       "    .dataframe thead th {\n",
       "        text-align: right;\n",
       "    }\n",
       "</style>\n",
       "<table border=\"1\" class=\"dataframe\">\n",
       "  <thead>\n",
       "    <tr style=\"text-align: right;\">\n",
       "      <th></th>\n",
       "      <th>year</th>\n",
       "      <th>month</th>\n",
       "      <th>passengers</th>\n",
       "    </tr>\n",
       "  </thead>\n",
       "  <tbody>\n",
       "    <tr>\n",
       "      <th>0</th>\n",
       "      <td>1949</td>\n",
       "      <td>Jan</td>\n",
       "      <td>112</td>\n",
       "    </tr>\n",
       "    <tr>\n",
       "      <th>1</th>\n",
       "      <td>1949</td>\n",
       "      <td>Feb</td>\n",
       "      <td>118</td>\n",
       "    </tr>\n",
       "    <tr>\n",
       "      <th>2</th>\n",
       "      <td>1949</td>\n",
       "      <td>Mar</td>\n",
       "      <td>132</td>\n",
       "    </tr>\n",
       "    <tr>\n",
       "      <th>3</th>\n",
       "      <td>1949</td>\n",
       "      <td>Apr</td>\n",
       "      <td>129</td>\n",
       "    </tr>\n",
       "    <tr>\n",
       "      <th>4</th>\n",
       "      <td>1949</td>\n",
       "      <td>May</td>\n",
       "      <td>121</td>\n",
       "    </tr>\n",
       "  </tbody>\n",
       "</table>\n",
       "</div>"
      ],
      "text/plain": [
       "   year month  passengers\n",
       "0  1949   Jan         112\n",
       "1  1949   Feb         118\n",
       "2  1949   Mar         132\n",
       "3  1949   Apr         129\n",
       "4  1949   May         121"
      ]
     },
     "execution_count": 24,
     "metadata": {},
     "output_type": "execute_result"
    }
   ],
   "source": [
    "#view first 5 records\n",
    "flights_data.head(5)"
   ]
  },
  {
   "cell_type": "code",
   "execution_count": 25,
   "id": "b084c7d9",
   "metadata": {},
   "outputs": [],
   "source": [
    "#we need to arrange the columns to generate the heatmap.we do this using the pivot method\n",
    "flights_data = flights_data.pivot('month','year','passengers')"
   ]
  },
  {
   "cell_type": "code",
   "execution_count": 26,
   "id": "5286194c",
   "metadata": {},
   "outputs": [
    {
     "data": {
      "text/html": [
       "<div>\n",
       "<style scoped>\n",
       "    .dataframe tbody tr th:only-of-type {\n",
       "        vertical-align: middle;\n",
       "    }\n",
       "\n",
       "    .dataframe tbody tr th {\n",
       "        vertical-align: top;\n",
       "    }\n",
       "\n",
       "    .dataframe thead th {\n",
       "        text-align: right;\n",
       "    }\n",
       "</style>\n",
       "<table border=\"1\" class=\"dataframe\">\n",
       "  <thead>\n",
       "    <tr style=\"text-align: right;\">\n",
       "      <th>year</th>\n",
       "      <th>1949</th>\n",
       "      <th>1950</th>\n",
       "      <th>1951</th>\n",
       "      <th>1952</th>\n",
       "      <th>1953</th>\n",
       "      <th>1954</th>\n",
       "      <th>1955</th>\n",
       "      <th>1956</th>\n",
       "      <th>1957</th>\n",
       "      <th>1958</th>\n",
       "      <th>1959</th>\n",
       "      <th>1960</th>\n",
       "    </tr>\n",
       "    <tr>\n",
       "      <th>month</th>\n",
       "      <th></th>\n",
       "      <th></th>\n",
       "      <th></th>\n",
       "      <th></th>\n",
       "      <th></th>\n",
       "      <th></th>\n",
       "      <th></th>\n",
       "      <th></th>\n",
       "      <th></th>\n",
       "      <th></th>\n",
       "      <th></th>\n",
       "      <th></th>\n",
       "    </tr>\n",
       "  </thead>\n",
       "  <tbody>\n",
       "    <tr>\n",
       "      <th>Jan</th>\n",
       "      <td>112</td>\n",
       "      <td>115</td>\n",
       "      <td>145</td>\n",
       "      <td>171</td>\n",
       "      <td>196</td>\n",
       "      <td>204</td>\n",
       "      <td>242</td>\n",
       "      <td>284</td>\n",
       "      <td>315</td>\n",
       "      <td>340</td>\n",
       "      <td>360</td>\n",
       "      <td>417</td>\n",
       "    </tr>\n",
       "    <tr>\n",
       "      <th>Feb</th>\n",
       "      <td>118</td>\n",
       "      <td>126</td>\n",
       "      <td>150</td>\n",
       "      <td>180</td>\n",
       "      <td>196</td>\n",
       "      <td>188</td>\n",
       "      <td>233</td>\n",
       "      <td>277</td>\n",
       "      <td>301</td>\n",
       "      <td>318</td>\n",
       "      <td>342</td>\n",
       "      <td>391</td>\n",
       "    </tr>\n",
       "    <tr>\n",
       "      <th>Mar</th>\n",
       "      <td>132</td>\n",
       "      <td>141</td>\n",
       "      <td>178</td>\n",
       "      <td>193</td>\n",
       "      <td>236</td>\n",
       "      <td>235</td>\n",
       "      <td>267</td>\n",
       "      <td>317</td>\n",
       "      <td>356</td>\n",
       "      <td>362</td>\n",
       "      <td>406</td>\n",
       "      <td>419</td>\n",
       "    </tr>\n",
       "    <tr>\n",
       "      <th>Apr</th>\n",
       "      <td>129</td>\n",
       "      <td>135</td>\n",
       "      <td>163</td>\n",
       "      <td>181</td>\n",
       "      <td>235</td>\n",
       "      <td>227</td>\n",
       "      <td>269</td>\n",
       "      <td>313</td>\n",
       "      <td>348</td>\n",
       "      <td>348</td>\n",
       "      <td>396</td>\n",
       "      <td>461</td>\n",
       "    </tr>\n",
       "    <tr>\n",
       "      <th>May</th>\n",
       "      <td>121</td>\n",
       "      <td>125</td>\n",
       "      <td>172</td>\n",
       "      <td>183</td>\n",
       "      <td>229</td>\n",
       "      <td>234</td>\n",
       "      <td>270</td>\n",
       "      <td>318</td>\n",
       "      <td>355</td>\n",
       "      <td>363</td>\n",
       "      <td>420</td>\n",
       "      <td>472</td>\n",
       "    </tr>\n",
       "    <tr>\n",
       "      <th>Jun</th>\n",
       "      <td>135</td>\n",
       "      <td>149</td>\n",
       "      <td>178</td>\n",
       "      <td>218</td>\n",
       "      <td>243</td>\n",
       "      <td>264</td>\n",
       "      <td>315</td>\n",
       "      <td>374</td>\n",
       "      <td>422</td>\n",
       "      <td>435</td>\n",
       "      <td>472</td>\n",
       "      <td>535</td>\n",
       "    </tr>\n",
       "    <tr>\n",
       "      <th>Jul</th>\n",
       "      <td>148</td>\n",
       "      <td>170</td>\n",
       "      <td>199</td>\n",
       "      <td>230</td>\n",
       "      <td>264</td>\n",
       "      <td>302</td>\n",
       "      <td>364</td>\n",
       "      <td>413</td>\n",
       "      <td>465</td>\n",
       "      <td>491</td>\n",
       "      <td>548</td>\n",
       "      <td>622</td>\n",
       "    </tr>\n",
       "    <tr>\n",
       "      <th>Aug</th>\n",
       "      <td>148</td>\n",
       "      <td>170</td>\n",
       "      <td>199</td>\n",
       "      <td>242</td>\n",
       "      <td>272</td>\n",
       "      <td>293</td>\n",
       "      <td>347</td>\n",
       "      <td>405</td>\n",
       "      <td>467</td>\n",
       "      <td>505</td>\n",
       "      <td>559</td>\n",
       "      <td>606</td>\n",
       "    </tr>\n",
       "    <tr>\n",
       "      <th>Sep</th>\n",
       "      <td>136</td>\n",
       "      <td>158</td>\n",
       "      <td>184</td>\n",
       "      <td>209</td>\n",
       "      <td>237</td>\n",
       "      <td>259</td>\n",
       "      <td>312</td>\n",
       "      <td>355</td>\n",
       "      <td>404</td>\n",
       "      <td>404</td>\n",
       "      <td>463</td>\n",
       "      <td>508</td>\n",
       "    </tr>\n",
       "    <tr>\n",
       "      <th>Oct</th>\n",
       "      <td>119</td>\n",
       "      <td>133</td>\n",
       "      <td>162</td>\n",
       "      <td>191</td>\n",
       "      <td>211</td>\n",
       "      <td>229</td>\n",
       "      <td>274</td>\n",
       "      <td>306</td>\n",
       "      <td>347</td>\n",
       "      <td>359</td>\n",
       "      <td>407</td>\n",
       "      <td>461</td>\n",
       "    </tr>\n",
       "    <tr>\n",
       "      <th>Nov</th>\n",
       "      <td>104</td>\n",
       "      <td>114</td>\n",
       "      <td>146</td>\n",
       "      <td>172</td>\n",
       "      <td>180</td>\n",
       "      <td>203</td>\n",
       "      <td>237</td>\n",
       "      <td>271</td>\n",
       "      <td>305</td>\n",
       "      <td>310</td>\n",
       "      <td>362</td>\n",
       "      <td>390</td>\n",
       "    </tr>\n",
       "    <tr>\n",
       "      <th>Dec</th>\n",
       "      <td>118</td>\n",
       "      <td>140</td>\n",
       "      <td>166</td>\n",
       "      <td>194</td>\n",
       "      <td>201</td>\n",
       "      <td>229</td>\n",
       "      <td>278</td>\n",
       "      <td>306</td>\n",
       "      <td>336</td>\n",
       "      <td>337</td>\n",
       "      <td>405</td>\n",
       "      <td>432</td>\n",
       "    </tr>\n",
       "  </tbody>\n",
       "</table>\n",
       "</div>"
      ],
      "text/plain": [
       "year   1949  1950  1951  1952  1953  1954  1955  1956  1957  1958  1959  1960\n",
       "month                                                                        \n",
       "Jan     112   115   145   171   196   204   242   284   315   340   360   417\n",
       "Feb     118   126   150   180   196   188   233   277   301   318   342   391\n",
       "Mar     132   141   178   193   236   235   267   317   356   362   406   419\n",
       "Apr     129   135   163   181   235   227   269   313   348   348   396   461\n",
       "May     121   125   172   183   229   234   270   318   355   363   420   472\n",
       "Jun     135   149   178   218   243   264   315   374   422   435   472   535\n",
       "Jul     148   170   199   230   264   302   364   413   465   491   548   622\n",
       "Aug     148   170   199   242   272   293   347   405   467   505   559   606\n",
       "Sep     136   158   184   209   237   259   312   355   404   404   463   508\n",
       "Oct     119   133   162   191   211   229   274   306   347   359   407   461\n",
       "Nov     104   114   146   172   180   203   237   271   305   310   362   390\n",
       "Dec     118   140   166   194   201   229   278   306   336   337   405   432"
      ]
     },
     "execution_count": 26,
     "metadata": {},
     "output_type": "execute_result"
    }
   ],
   "source": [
    "#View the dataset post rearrangement\n",
    "flights_data"
   ]
  },
  {
   "cell_type": "code",
   "execution_count": 28,
   "id": "e857c0a9",
   "metadata": {},
   "outputs": [
    {
     "data": {
      "image/png": "[encoded data removed]",
      "text/plain": [
       "<Figure size 432x288 with 2 Axes>"
      ]
     },
     "metadata": {
      "needs_background": "light"
     },
     "output_type": "display_data"
    }
   ],
   "source": [
    "#generate the heatmap\n",
    "sns.heatmap(flights_data)\n",
    "plt.show()"
   ]
  },
  {
   "cell_type": "markdown",
   "id": "0b86f5bd",
   "metadata": {},
   "source": [
    "## With Pyplot, you can use the pie() function to draw pie charts:"
   ]
  },
  {
   "cell_type": "code",
   "execution_count": null,
   "id": "7a3d99b7",
   "metadata": {},
   "outputs": [],
   "source": [
    "#create a piechart using labels for each slice\n",
    "import matplotlib.pyplot as plt\n",
    "import numpy as np\n",
    "\n",
    "y = np.array([35, 25, 25, 15])\n",
    "mylabels = [\"Daisy\", \"Lilies\", \"Marigold\", \"Rose\"]\n",
    "\n",
    "plt.pie(y, labels = mylabels)\n",
    "plt.show() "
   ]
  },
  {
   "cell_type": "markdown",
   "id": "6578d13a",
   "metadata": {},
   "source": [
    "## Correlation means an association, It is a measure of the extent to which two variables are related. \n",
    "\n",
    "### Positive Correlation: When two variables increase together and decrease together. They are positively correlated. ‘1’ is a perfect positive correlation. For example – demand and profit are positively correlated the more the demand for the product, the more profit hence positive correlation."
   ]
  },
  {
   "cell_type": "markdown",
   "id": "385a97d0",
   "metadata": {},
   "source": [
    "### Negative Correlation: When one variable increases and the other variable decreases together and vice-versa. They are negatively correlated. For example, If the distance between magnet increases their attraction decreases, and vice-versa. Hence, a negative correlation. ‘-1’  is no correlation"
   ]
  },
  {
   "cell_type": "markdown",
   "id": "dd84ca02",
   "metadata": {},
   "source": [
    "### Zero Correlation( No Correlation): When two variables don’t seem to be linked at all. ‘0’ is a perfect negative correlation. For Example, the amount of tea you take and level of intelligence."
   ]
  },
  {
   "cell_type": "code",
   "execution_count": null,
   "id": "2a5fafe2",
   "metadata": {},
   "outputs": [],
   "source": [
    "#Plotting Correlation matrix using Python\n"
   ]
  },
  {
   "cell_type": "code",
   "execution_count": null,
   "id": "da53f1ac",
   "metadata": {},
   "outputs": [],
   "source": [
    "import sklearn\n",
    "import numpy as np\n",
    "import matplotlib.pyplot as plt\n",
    "import pandas as pd"
   ]
  },
  {
   "cell_type": "code",
   "execution_count": null,
   "id": "18a5922d",
   "metadata": {},
   "outputs": [],
   "source": [
    "y = pd.Series([1, 2, 3, 4, 3, 5, 4])\n",
    "x = pd.Series([2, 4, 6, 8, 10, 12, 14])\n",
    "correlation = y.corr(x)\n",
    "correlation"
   ]
  },
  {
   "cell_type": "code",
   "execution_count": null,
   "id": "9c43f71d",
   "metadata": {},
   "outputs": [],
   "source": [
    "# plotting the data\n",
    "plt.scatter(x, y)\n",
    " \n",
    "# This will fit the best line into the graph\n",
    "plt.plot(np.unique(x), np.poly1d(np.polyfit(x, y, 1)) #The numpy.poly1d() function helps to define a polynomial function.\n",
    "         (np.unique(x)), color='red')\n",
    "plt.show()"
   ]
  },
  {
   "cell_type": "markdown",
   "id": "697a06b4",
   "metadata": {},
   "source": [
    "## The np.polyfit() function, accepts three different input values: x, y and the polynomial degree. Arguments x and y correspond to the values of the data points that we want to fit, on the x and y axes, respectively. The third parameter specifies the degree of our polynomial function. For example, to obtain a linear fit, use degree 1."
   ]
  },
  {
   "cell_type": "markdown",
   "id": "539d4cb8",
   "metadata": {},
   "source": [
    "### np.polyfit() will return a best fit that minimises the squared error."
   ]
  },
  {
   "cell_type": "code",
   "execution_count": null,
   "id": "bca65087",
   "metadata": {},
   "outputs": [],
   "source": [
    "# adds the title\n",
    "plt.title('Correlation')\n",
    " \n",
    "# plot the data\n",
    "plt.scatter(x, y)\n",
    " \n",
    "# fits the best fitting line to the data\n",
    "plt.plot(np.unique(x),\n",
    "         np.poly1d(np.polyfit(x, y, 1))\n",
    "         (np.unique(x)), color='red')\n",
    " \n",
    "# Labelling axes\n",
    "plt.xlabel('x axis')\n",
    "plt.ylabel('y axis')"
   ]
  },
  {
   "cell_type": "markdown",
   "id": "db0f2c82",
   "metadata": {},
   "source": [
    "## There are many ways you can plot correlation matrices one efficient way is using the heatmap. It is very easy to understand the correlation using heatmaps it tells the correlation of one feature(variable) to every other feature(variable). In other words, A correlation matrix is a tabular data representing the ‘correlations’ between pairs of variables in a given data."
   ]
  },
  {
   "cell_type": "code",
   "execution_count": 29,
   "id": "19432c91",
   "metadata": {},
   "outputs": [
    {
     "data": {
      "image/png": "[encoded data removed]",
      "text/plain": [
       "<Figure size 432x288 with 1 Axes>"
      ]
     },
     "metadata": {
      "needs_background": "light"
     },
     "output_type": "display_data"
    }
   ],
   "source": [
    "#Bar Plots:\n",
    "x= np.array(['Single','Married','Divorced'])\n",
    "y = np.array([25,30,15])\n",
    "plt.bar(x,y)\n",
    "plt.show()"
   ]
  },
  {
   "cell_type": "markdown",
   "id": "8a077eb5",
   "metadata": {},
   "source": [
    "## A count plot displays the value counts(frequencies) for a SINGLE categorical variable. Unlike bar graphs which shows the  frequency of multiple categorical variables."
   ]
  },
  {
   "cell_type": "code",
   "execution_count": 38,
   "id": "ec378997",
   "metadata": {},
   "outputs": [
    {
     "data": {
      "text/html": [
       "<div>\n",
       "<style scoped>\n",
       "    .dataframe tbody tr th:only-of-type {\n",
       "        vertical-align: middle;\n",
       "    }\n",
       "\n",
       "    .dataframe tbody tr th {\n",
       "        vertical-align: top;\n",
       "    }\n",
       "\n",
       "    .dataframe thead th {\n",
       "        text-align: right;\n",
       "    }\n",
       "</style>\n",
       "<table border=\"1\" class=\"dataframe\">\n",
       "  <thead>\n",
       "    <tr style=\"text-align: right;\">\n",
       "      <th></th>\n",
       "      <th>sepal_length</th>\n",
       "      <th>sepal_width</th>\n",
       "      <th>petal_length</th>\n",
       "      <th>petal_width</th>\n",
       "      <th>species</th>\n",
       "    </tr>\n",
       "  </thead>\n",
       "  <tbody>\n",
       "    <tr>\n",
       "      <th>0</th>\n",
       "      <td>5.1</td>\n",
       "      <td>3.5</td>\n",
       "      <td>1.4</td>\n",
       "      <td>0.2</td>\n",
       "      <td>setosa</td>\n",
       "    </tr>\n",
       "    <tr>\n",
       "      <th>1</th>\n",
       "      <td>4.9</td>\n",
       "      <td>3.0</td>\n",
       "      <td>1.4</td>\n",
       "      <td>0.2</td>\n",
       "      <td>setosa</td>\n",
       "    </tr>\n",
       "    <tr>\n",
       "      <th>2</th>\n",
       "      <td>4.7</td>\n",
       "      <td>3.2</td>\n",
       "      <td>1.3</td>\n",
       "      <td>0.2</td>\n",
       "      <td>setosa</td>\n",
       "    </tr>\n",
       "    <tr>\n",
       "      <th>3</th>\n",
       "      <td>4.6</td>\n",
       "      <td>3.1</td>\n",
       "      <td>1.5</td>\n",
       "      <td>0.2</td>\n",
       "      <td>setosa</td>\n",
       "    </tr>\n",
       "    <tr>\n",
       "      <th>4</th>\n",
       "      <td>5.0</td>\n",
       "      <td>3.6</td>\n",
       "      <td>1.4</td>\n",
       "      <td>0.2</td>\n",
       "      <td>setosa</td>\n",
       "    </tr>\n",
       "    <tr>\n",
       "      <th>...</th>\n",
       "      <td>...</td>\n",
       "      <td>...</td>\n",
       "      <td>...</td>\n",
       "      <td>...</td>\n",
       "      <td>...</td>\n",
       "    </tr>\n",
       "    <tr>\n",
       "      <th>145</th>\n",
       "      <td>6.7</td>\n",
       "      <td>3.0</td>\n",
       "      <td>5.2</td>\n",
       "      <td>2.3</td>\n",
       "      <td>virginica</td>\n",
       "    </tr>\n",
       "    <tr>\n",
       "      <th>146</th>\n",
       "      <td>6.3</td>\n",
       "      <td>2.5</td>\n",
       "      <td>5.0</td>\n",
       "      <td>1.9</td>\n",
       "      <td>virginica</td>\n",
       "    </tr>\n",
       "    <tr>\n",
       "      <th>147</th>\n",
       "      <td>6.5</td>\n",
       "      <td>3.0</td>\n",
       "      <td>5.2</td>\n",
       "      <td>2.0</td>\n",
       "      <td>virginica</td>\n",
       "    </tr>\n",
       "    <tr>\n",
       "      <th>148</th>\n",
       "      <td>6.2</td>\n",
       "      <td>3.4</td>\n",
       "      <td>5.4</td>\n",
       "      <td>2.3</td>\n",
       "      <td>virginica</td>\n",
       "    </tr>\n",
       "    <tr>\n",
       "      <th>149</th>\n",
       "      <td>5.9</td>\n",
       "      <td>3.0</td>\n",
       "      <td>5.1</td>\n",
       "      <td>1.8</td>\n",
       "      <td>virginica</td>\n",
       "    </tr>\n",
       "  </tbody>\n",
       "</table>\n",
       "<p>150 rows × 5 columns</p>\n",
       "</div>"
      ],
      "text/plain": [
       "     sepal_length  sepal_width  petal_length  petal_width    species\n",
       "0             5.1          3.5           1.4          0.2     setosa\n",
       "1             4.9          3.0           1.4          0.2     setosa\n",
       "2             4.7          3.2           1.3          0.2     setosa\n",
       "3             4.6          3.1           1.5          0.2     setosa\n",
       "4             5.0          3.6           1.4          0.2     setosa\n",
       "..            ...          ...           ...          ...        ...\n",
       "145           6.7          3.0           5.2          2.3  virginica\n",
       "146           6.3          2.5           5.0          1.9  virginica\n",
       "147           6.5          3.0           5.2          2.0  virginica\n",
       "148           6.2          3.4           5.4          2.3  virginica\n",
       "149           5.9          3.0           5.1          1.8  virginica\n",
       "\n",
       "[150 rows x 5 columns]"
      ]
     },
     "execution_count": 38,
     "metadata": {},
     "output_type": "execute_result"
    }
   ],
   "source": [
    "import seaborn as sns\n",
    "import matplotlib.pyplot as plt\n",
    "\n",
    "df = sns.load_dataset('iris')\n",
    "#df\n",
    "\n",
    "sns.countplot(x='species',data = df)\n",
    "\n",
    "display the plot\n",
    "plt.show()\n",
    "\n",
    "#the single categorical variable is species-subcategories are sentosa,virginica,versicolor"
   ]
  },
  {
   "cell_type": "code",
   "execution_count": 41,
   "id": "26c1ff3f",
   "metadata": {},
   "outputs": [
    {
     "data": {
      "image/png": "[encoded data removed]",
      "text/plain": [
       "<Figure size 432x288 with 1 Axes>"
      ]
     },
     "metadata": {
      "needs_background": "light"
     },
     "output_type": "display_data"
    }
   ],
   "source": [
    "import seaborn as sns\n",
    "import matplotlib.pyplot as plt\n",
    "\n",
    "df = sns.load_dataset(\"titanic\")\n",
    "\n",
    "sns.countplot(x=df[\"class\"])\n",
    "\n",
    "plt.show()"
   ]
  },
  {
   "cell_type": "markdown",
   "id": "9541087d",
   "metadata": {},
   "source": [
    "## Scipy--"
   ]
  },
  {
   "cell_type": "code",
   "execution_count": 44,
   "id": "e3c2af05",
   "metadata": {},
   "outputs": [
    {
     "data": {
      "text/plain": [
       "25.0"
      ]
     },
     "execution_count": 44,
     "metadata": {},
     "output_type": "execute_result"
    }
   ],
   "source": [
    "from scipy import linalg\n",
    "import numpy as np\n",
    "twodarray = np.array([[7,8],[10,15]])\n",
    "linalg.det(twodarray)"
   ]
  },
  {
   "cell_type": "code",
   "execution_count": 45,
   "id": "2408f856",
   "metadata": {},
   "outputs": [
    {
     "name": "stdout",
     "output_type": "stream",
     "text": [
      "(4.0, 4.440892098500626e-14)\n"
     ]
    }
   ],
   "source": [
    "from scipy import integrate\n",
    "ghi = lambda x:x**3\n",
    "integration = integrate.quad(ghi,0,2)\n",
    "print(integration)"
   ]
  },
  {
   "cell_type": "code",
   "execution_count": null,
   "id": "e1d84540",
   "metadata": {},
   "outputs": [],
   "source": [
    "#the first component in the output is the area under the curve within the limits 0,2. The second component is the \n",
    "#absolute error component."
   ]
  },
  {
   "cell_type": "markdown",
   "id": "4ebff55c",
   "metadata": {},
   "source": [
    "### This is the end of Scipy"
   ]
  },
  {
   "cell_type": "code",
   "execution_count": null,
   "id": "3b204f75",
   "metadata": {},
   "outputs": [],
   "source": []
  }
 ],
 "metadata": {
  "kernelspec": {
   "display_name": "Python 3",
   "language": "python",
   "name": "python3"
  },
  "language_info": {
   "codemirror_mode": {
    "name": "ipython",
    "version": 3
   },
   "file_extension": ".py",
   "mimetype": "text/x-python",
   "name": "python",
   "nbconvert_exporter": "python",
   "pygments_lexer": "ipython3",
   "version": "3.8.8"
  }
 },
 "nbformat": 4,
 "nbformat_minor": 5
}
